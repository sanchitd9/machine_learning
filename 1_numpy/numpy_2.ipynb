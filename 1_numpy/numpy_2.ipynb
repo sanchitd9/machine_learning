{
 "cells": [
  {
   "cell_type": "markdown",
   "source": [
    "# NumPy Indexing and Selection"
   ],
   "metadata": {
    "collapsed": false
   },
   "id": "674d4750c63cfa9b"
  },
  {
   "cell_type": "code",
   "execution_count": 1,
   "outputs": [],
   "source": [
    "# Import numpy\n",
    "import numpy as np"
   ],
   "metadata": {
    "collapsed": false,
    "ExecuteTime": {
     "end_time": "2023-09-13T04:16:03.937973900Z",
     "start_time": "2023-09-13T04:16:03.755302900Z"
    }
   },
   "id": "initial_id"
  },
  {
   "cell_type": "code",
   "execution_count": 2,
   "outputs": [],
   "source": [
    "arr = np.arange(0, 11)"
   ],
   "metadata": {
    "collapsed": false,
    "ExecuteTime": {
     "end_time": "2023-09-13T04:17:24.092898500Z",
     "start_time": "2023-09-13T04:17:24.064520100Z"
    }
   },
   "id": "d833620657b9647b"
  },
  {
   "cell_type": "code",
   "execution_count": 3,
   "outputs": [
    {
     "data": {
      "text/plain": "array([ 0,  1,  2,  3,  4,  5,  6,  7,  8,  9, 10])"
     },
     "execution_count": 3,
     "metadata": {},
     "output_type": "execute_result"
    }
   ],
   "source": [
    "arr"
   ],
   "metadata": {
    "collapsed": false,
    "ExecuteTime": {
     "end_time": "2023-09-13T04:17:25.031739400Z",
     "start_time": "2023-09-13T04:17:25.015683Z"
    }
   },
   "id": "bf592f9ecffb9106"
  },
  {
   "cell_type": "markdown",
   "source": [
    "## Indexing and Slicing"
   ],
   "metadata": {
    "collapsed": false
   },
   "id": "836fa06ce1ac9c79"
  },
  {
   "cell_type": "code",
   "execution_count": 4,
   "outputs": [
    {
     "data": {
      "text/plain": "8"
     },
     "execution_count": 4,
     "metadata": {},
     "output_type": "execute_result"
    }
   ],
   "source": [
    "# Fetch element at index 8\n",
    "arr[8]"
   ],
   "metadata": {
    "collapsed": false,
    "ExecuteTime": {
     "end_time": "2023-09-13T04:17:27.187980900Z",
     "start_time": "2023-09-13T04:17:27.156503500Z"
    }
   },
   "id": "6c4971d37b181800"
  },
  {
   "cell_type": "code",
   "execution_count": 5,
   "outputs": [
    {
     "data": {
      "text/plain": "array([1, 2, 3, 4])"
     },
     "execution_count": 5,
     "metadata": {},
     "output_type": "execute_result"
    }
   ],
   "source": [
    "# Fetch elements from index 1 to 4\n",
    "arr[1:5]"
   ],
   "metadata": {
    "collapsed": false,
    "ExecuteTime": {
     "end_time": "2023-09-13T04:17:28.016244100Z",
     "start_time": "2023-09-13T04:17:28.000049Z"
    }
   },
   "id": "4d7228d0852ad845"
  },
  {
   "cell_type": "code",
   "execution_count": 6,
   "outputs": [
    {
     "data": {
      "text/plain": "array([0, 1, 2, 3, 4])"
     },
     "execution_count": 6,
     "metadata": {},
     "output_type": "execute_result"
    }
   ],
   "source": [
    "# Fetch elements from index 0 to 4\n",
    "arr[0:5]"
   ],
   "metadata": {
    "collapsed": false,
    "ExecuteTime": {
     "end_time": "2023-09-13T04:17:29.265561100Z",
     "start_time": "2023-09-13T04:17:29.249854700Z"
    }
   },
   "id": "3d44098e72372091"
  },
  {
   "cell_type": "code",
   "execution_count": 7,
   "outputs": [
    {
     "data": {
      "text/plain": "array([0, 1, 2, 3, 4, 5])"
     },
     "execution_count": 7,
     "metadata": {},
     "output_type": "execute_result"
    }
   ],
   "source": [
    "# Fetch elements 0 to 5\n",
    "arr[:6]"
   ],
   "metadata": {
    "collapsed": false,
    "ExecuteTime": {
     "end_time": "2023-09-13T04:17:30.363160300Z",
     "start_time": "2023-09-13T04:17:30.331386900Z"
    }
   },
   "id": "d60a009de487a0e9"
  },
  {
   "cell_type": "code",
   "execution_count": 8,
   "outputs": [
    {
     "data": {
      "text/plain": "array([ 5,  6,  7,  8,  9, 10])"
     },
     "execution_count": 8,
     "metadata": {},
     "output_type": "execute_result"
    }
   ],
   "source": [
    "# Fetch elements from 5 to end of array\n",
    "arr[5:]"
   ],
   "metadata": {
    "collapsed": false,
    "ExecuteTime": {
     "end_time": "2023-09-13T04:17:42.615560300Z",
     "start_time": "2023-09-13T04:17:42.581745200Z"
    }
   },
   "id": "bf69ba3d3cd9e21d"
  },
  {
   "cell_type": "code",
   "execution_count": 9,
   "outputs": [],
   "source": [
    "# Set elements 0 to 4 as 100\n",
    "arr[0:5] = 100"
   ],
   "metadata": {
    "collapsed": false,
    "ExecuteTime": {
     "end_time": "2023-09-13T04:17:44.164766300Z",
     "start_time": "2023-09-13T04:17:44.164256600Z"
    }
   },
   "id": "90133965c47d6fdb"
  },
  {
   "cell_type": "code",
   "execution_count": 10,
   "outputs": [
    {
     "data": {
      "text/plain": "array([100, 100, 100, 100, 100,   5,   6,   7,   8,   9,  10])"
     },
     "execution_count": 10,
     "metadata": {},
     "output_type": "execute_result"
    }
   ],
   "source": [
    "arr"
   ],
   "metadata": {
    "collapsed": false,
    "ExecuteTime": {
     "end_time": "2023-09-13T04:17:45.670890900Z",
     "start_time": "2023-09-13T04:17:45.654595800Z"
    }
   },
   "id": "2ec8a0ed6b338eaa"
  },
  {
   "cell_type": "code",
   "execution_count": 11,
   "outputs": [],
   "source": [
    "arr = np.arange(0, 11)"
   ],
   "metadata": {
    "collapsed": false,
    "ExecuteTime": {
     "end_time": "2023-09-13T04:17:46.460889200Z",
     "start_time": "2023-09-13T04:17:46.459379500Z"
    }
   },
   "id": "4a30a52a48a3827e"
  },
  {
   "cell_type": "code",
   "execution_count": 12,
   "outputs": [],
   "source": [
    "# Slicing an array\n",
    "slice_of_arr = arr[0:6]"
   ],
   "metadata": {
    "collapsed": false,
    "ExecuteTime": {
     "end_time": "2023-09-13T04:17:47.434490900Z",
     "start_time": "2023-09-13T04:17:47.404650900Z"
    }
   },
   "id": "b9700727866539d7"
  },
  {
   "cell_type": "code",
   "execution_count": 13,
   "outputs": [
    {
     "data": {
      "text/plain": "array([0, 1, 2, 3, 4, 5])"
     },
     "execution_count": 13,
     "metadata": {},
     "output_type": "execute_result"
    }
   ],
   "source": [
    "slice_of_arr"
   ],
   "metadata": {
    "collapsed": false,
    "ExecuteTime": {
     "end_time": "2023-09-13T04:17:48.069130300Z",
     "start_time": "2023-09-13T04:17:48.053238900Z"
    }
   },
   "id": "1e0958c822c40164"
  },
  {
   "cell_type": "code",
   "execution_count": 14,
   "outputs": [],
   "source": [
    "slice_of_arr[:] = 99"
   ],
   "metadata": {
    "collapsed": false,
    "ExecuteTime": {
     "end_time": "2023-09-13T04:17:50.973332200Z",
     "start_time": "2023-09-13T04:17:50.947682800Z"
    }
   },
   "id": "8a2096557b2b7e3f"
  },
  {
   "cell_type": "code",
   "execution_count": 15,
   "outputs": [
    {
     "data": {
      "text/plain": "array([99, 99, 99, 99, 99, 99])"
     },
     "execution_count": 15,
     "metadata": {},
     "output_type": "execute_result"
    }
   ],
   "source": [
    "slice_of_arr"
   ],
   "metadata": {
    "collapsed": false,
    "ExecuteTime": {
     "end_time": "2023-09-13T04:17:51.983827500Z",
     "start_time": "2023-09-13T04:17:51.967833600Z"
    }
   },
   "id": "1281e39c7750dc61"
  },
  {
   "cell_type": "code",
   "execution_count": 16,
   "outputs": [
    {
     "data": {
      "text/plain": "array([99, 99, 99, 99, 99, 99,  6,  7,  8,  9, 10])"
     },
     "execution_count": 16,
     "metadata": {},
     "output_type": "execute_result"
    }
   ],
   "source": [
    "arr"
   ],
   "metadata": {
    "collapsed": false,
    "ExecuteTime": {
     "end_time": "2023-09-13T04:17:53.964340200Z",
     "start_time": "2023-09-13T04:17:53.932621700Z"
    }
   },
   "id": "5d4811b03d702c78"
  },
  {
   "cell_type": "code",
   "execution_count": 17,
   "outputs": [],
   "source": [
    "# Create a copy\n",
    "arr_copy = arr.copy()"
   ],
   "metadata": {
    "collapsed": false,
    "ExecuteTime": {
     "end_time": "2023-09-13T04:17:55.043660100Z",
     "start_time": "2023-09-13T04:17:55.018503900Z"
    }
   },
   "id": "9f75e8edbf0bcb7e"
  },
  {
   "cell_type": "code",
   "execution_count": 18,
   "outputs": [
    {
     "data": {
      "text/plain": "array([99, 99, 99, 99, 99, 99,  6,  7,  8,  9, 10])"
     },
     "execution_count": 18,
     "metadata": {},
     "output_type": "execute_result"
    }
   ],
   "source": [
    "arr_copy"
   ],
   "metadata": {
    "collapsed": false,
    "ExecuteTime": {
     "end_time": "2023-09-13T04:17:55.957810700Z",
     "start_time": "2023-09-13T04:17:55.946075500Z"
    }
   },
   "id": "ac4a73e991e2b8aa"
  },
  {
   "cell_type": "code",
   "execution_count": 19,
   "outputs": [],
   "source": [
    "arr_copy[:] = 100"
   ],
   "metadata": {
    "collapsed": false,
    "ExecuteTime": {
     "end_time": "2023-09-13T04:17:57.079461300Z",
     "start_time": "2023-09-13T04:17:57.063559100Z"
    }
   },
   "id": "a905a4019d6f796b"
  },
  {
   "cell_type": "code",
   "execution_count": 20,
   "outputs": [
    {
     "data": {
      "text/plain": "array([100, 100, 100, 100, 100, 100, 100, 100, 100, 100, 100])"
     },
     "execution_count": 20,
     "metadata": {},
     "output_type": "execute_result"
    }
   ],
   "source": [
    "arr_copy"
   ],
   "metadata": {
    "collapsed": false,
    "ExecuteTime": {
     "end_time": "2023-09-13T04:17:58.668571800Z",
     "start_time": "2023-09-13T04:17:58.653241600Z"
    }
   },
   "id": "8df09a5ecb95a14f"
  },
  {
   "cell_type": "code",
   "execution_count": 21,
   "outputs": [
    {
     "data": {
      "text/plain": "array([99, 99, 99, 99, 99, 99,  6,  7,  8,  9, 10])"
     },
     "execution_count": 21,
     "metadata": {},
     "output_type": "execute_result"
    }
   ],
   "source": [
    "arr"
   ],
   "metadata": {
    "collapsed": false,
    "ExecuteTime": {
     "end_time": "2023-09-13T04:18:05.422193Z",
     "start_time": "2023-09-13T04:18:05.390676500Z"
    }
   },
   "id": "714e6baa51421e8b"
  },
  {
   "cell_type": "code",
   "execution_count": 22,
   "outputs": [],
   "source": [
    "arr_2d = np.array([\n",
    "    [5, 10, 15],\n",
    "    [20, 25, 30],\n",
    "    [35, 40, 45]\n",
    "])"
   ],
   "metadata": {
    "collapsed": false,
    "ExecuteTime": {
     "end_time": "2023-09-13T04:18:07.489535900Z",
     "start_time": "2023-09-13T04:18:07.458015600Z"
    }
   },
   "id": "fc82e6fb7843c416"
  },
  {
   "cell_type": "markdown",
   "source": [
    "## Indexing and Selection in 2-D arrays"
   ],
   "metadata": {
    "collapsed": false
   },
   "id": "8b8a69bbcfc2938c"
  },
  {
   "cell_type": "code",
   "execution_count": 23,
   "outputs": [
    {
     "data": {
      "text/plain": "array([[ 5, 10, 15],\n       [20, 25, 30],\n       [35, 40, 45]])"
     },
     "execution_count": 23,
     "metadata": {},
     "output_type": "execute_result"
    }
   ],
   "source": [
    "arr_2d"
   ],
   "metadata": {
    "collapsed": false,
    "ExecuteTime": {
     "end_time": "2023-09-13T04:18:08.815293400Z",
     "start_time": "2023-09-13T04:18:08.809969700Z"
    }
   },
   "id": "c9325948b3c654b5"
  },
  {
   "cell_type": "code",
   "execution_count": 24,
   "outputs": [
    {
     "data": {
      "text/plain": "5"
     },
     "execution_count": 24,
     "metadata": {},
     "output_type": "execute_result"
    }
   ],
   "source": [
    "arr_2d[0][0]"
   ],
   "metadata": {
    "collapsed": false,
    "ExecuteTime": {
     "end_time": "2023-09-13T04:18:10.674700100Z",
     "start_time": "2023-09-13T04:18:10.665365900Z"
    }
   },
   "id": "a663db886dfdafa3"
  },
  {
   "cell_type": "code",
   "execution_count": 25,
   "outputs": [
    {
     "data": {
      "text/plain": "array([ 5, 10, 15])"
     },
     "execution_count": 25,
     "metadata": {},
     "output_type": "execute_result"
    }
   ],
   "source": [
    "arr_2d[0]"
   ],
   "metadata": {
    "collapsed": false,
    "ExecuteTime": {
     "end_time": "2023-09-13T04:18:11.588970100Z",
     "start_time": "2023-09-13T04:18:11.585458300Z"
    }
   },
   "id": "d26db0eae3824986"
  },
  {
   "cell_type": "code",
   "execution_count": 26,
   "outputs": [
    {
     "data": {
      "text/plain": "25"
     },
     "execution_count": 26,
     "metadata": {},
     "output_type": "execute_result"
    }
   ],
   "source": [
    "arr_2d[1][1]"
   ],
   "metadata": {
    "collapsed": false,
    "ExecuteTime": {
     "end_time": "2023-09-13T04:18:12.931639400Z",
     "start_time": "2023-09-13T04:18:12.923636100Z"
    }
   },
   "id": "800bf856b5d298d9"
  },
  {
   "cell_type": "code",
   "execution_count": 27,
   "outputs": [
    {
     "data": {
      "text/plain": "40"
     },
     "execution_count": 27,
     "metadata": {},
     "output_type": "execute_result"
    }
   ],
   "source": [
    "arr_2d[2, 1]"
   ],
   "metadata": {
    "collapsed": false,
    "ExecuteTime": {
     "end_time": "2023-09-13T04:18:14.181226500Z",
     "start_time": "2023-09-13T04:18:14.165254100Z"
    }
   },
   "id": "91e0e60a53f6d749"
  },
  {
   "cell_type": "code",
   "execution_count": 28,
   "outputs": [
    {
     "data": {
      "text/plain": "30"
     },
     "execution_count": 28,
     "metadata": {},
     "output_type": "execute_result"
    }
   ],
   "source": [
    "arr_2d[1, 2]"
   ],
   "metadata": {
    "collapsed": false,
    "ExecuteTime": {
     "end_time": "2023-09-13T04:18:15.258501100Z",
     "start_time": "2023-09-13T04:18:15.254580100Z"
    }
   },
   "id": "d54ae318da1f12b6"
  },
  {
   "cell_type": "code",
   "execution_count": 29,
   "outputs": [
    {
     "data": {
      "text/plain": "array([[10, 15],\n       [25, 30]])"
     },
     "execution_count": 29,
     "metadata": {},
     "output_type": "execute_result"
    }
   ],
   "source": [
    "arr_2d[:2, 1:]"
   ],
   "metadata": {
    "collapsed": false,
    "ExecuteTime": {
     "end_time": "2023-09-13T04:18:15.943784200Z",
     "start_time": "2023-09-13T04:18:15.928023Z"
    }
   },
   "id": "caa54d7d4e9b3e41"
  },
  {
   "cell_type": "code",
   "execution_count": 30,
   "outputs": [],
   "source": [
    "arr = np.arange(1, 11)"
   ],
   "metadata": {
    "collapsed": false,
    "ExecuteTime": {
     "end_time": "2023-09-13T04:18:17.315180100Z",
     "start_time": "2023-09-13T04:18:17.314671200Z"
    }
   },
   "id": "65550c5547e03861"
  },
  {
   "cell_type": "code",
   "execution_count": 31,
   "outputs": [
    {
     "data": {
      "text/plain": "array([ 1,  2,  3,  4,  5,  6,  7,  8,  9, 10])"
     },
     "execution_count": 31,
     "metadata": {},
     "output_type": "execute_result"
    }
   ],
   "source": [
    "arr"
   ],
   "metadata": {
    "collapsed": false,
    "ExecuteTime": {
     "end_time": "2023-09-13T04:18:18.660239300Z",
     "start_time": "2023-09-13T04:18:18.655627Z"
    }
   },
   "id": "994c38bc455b3a5c"
  },
  {
   "cell_type": "markdown",
   "source": [
    "## Conditional Selection"
   ],
   "metadata": {
    "collapsed": false
   },
   "id": "295a291ffc8b040c"
  },
  {
   "cell_type": "code",
   "execution_count": 32,
   "outputs": [],
   "source": [
    "bool_arr = arr > 5"
   ],
   "metadata": {
    "collapsed": false,
    "ExecuteTime": {
     "end_time": "2023-09-13T04:18:20.060876300Z",
     "start_time": "2023-09-13T04:18:20.060876300Z"
    }
   },
   "id": "97437c690a64d01"
  },
  {
   "cell_type": "code",
   "execution_count": 33,
   "outputs": [
    {
     "data": {
      "text/plain": "array([False, False, False, False, False,  True,  True,  True,  True,\n        True])"
     },
     "execution_count": 33,
     "metadata": {},
     "output_type": "execute_result"
    }
   ],
   "source": [
    "bool_arr"
   ],
   "metadata": {
    "collapsed": false,
    "ExecuteTime": {
     "end_time": "2023-09-13T04:18:21.201456700Z",
     "start_time": "2023-09-13T04:18:21.169932Z"
    }
   },
   "id": "a78076538b669bd"
  },
  {
   "cell_type": "code",
   "execution_count": 34,
   "outputs": [
    {
     "data": {
      "text/plain": "array([ 6,  7,  8,  9, 10])"
     },
     "execution_count": 34,
     "metadata": {},
     "output_type": "execute_result"
    }
   ],
   "source": [
    "arr[bool_arr]"
   ],
   "metadata": {
    "collapsed": false,
    "ExecuteTime": {
     "end_time": "2023-09-13T04:18:22.146272500Z",
     "start_time": "2023-09-13T04:18:22.130345300Z"
    }
   },
   "id": "f1092aac397c959c"
  },
  {
   "cell_type": "code",
   "execution_count": 35,
   "outputs": [
    {
     "data": {
      "text/plain": "array([ 6,  7,  8,  9, 10])"
     },
     "execution_count": 35,
     "metadata": {},
     "output_type": "execute_result"
    }
   ],
   "source": [
    "arr[arr > 5]"
   ],
   "metadata": {
    "collapsed": false,
    "ExecuteTime": {
     "end_time": "2023-09-13T04:18:22.709834800Z",
     "start_time": "2023-09-13T04:18:22.693152900Z"
    }
   },
   "id": "858e53e60932c3ef"
  },
  {
   "cell_type": "code",
   "execution_count": 36,
   "outputs": [
    {
     "data": {
      "text/plain": "array([1, 2])"
     },
     "execution_count": 36,
     "metadata": {},
     "output_type": "execute_result"
    }
   ],
   "source": [
    "arr[arr < 3]"
   ],
   "metadata": {
    "collapsed": false,
    "ExecuteTime": {
     "end_time": "2023-09-13T04:18:23.668649100Z",
     "start_time": "2023-09-13T04:18:23.663387100Z"
    }
   },
   "id": "6f8f902e8e5808cb"
  },
  {
   "cell_type": "markdown",
   "source": [
    "## Reshaping an array"
   ],
   "metadata": {
    "collapsed": false
   },
   "id": "a4683ade203fa195"
  },
  {
   "cell_type": "code",
   "execution_count": 37,
   "outputs": [],
   "source": [
    "arr_2d = np.arange(50).reshape(5, 10)"
   ],
   "metadata": {
    "collapsed": false,
    "ExecuteTime": {
     "end_time": "2023-09-13T04:18:24.311931600Z",
     "start_time": "2023-09-13T04:18:24.305067900Z"
    }
   },
   "id": "8f50c5369272bc97"
  },
  {
   "cell_type": "code",
   "execution_count": 40,
   "outputs": [
    {
     "data": {
      "text/plain": "array([[ 0,  1,  2,  3,  4,  5,  6,  7,  8,  9],\n       [10, 11, 12, 13, 14, 15, 16, 17, 18, 19],\n       [20, 21, 22, 23, 24, 25, 26, 27, 28, 29],\n       [30, 31, 32, 33, 34, 35, 36, 37, 38, 39],\n       [40, 41, 42, 43, 44, 45, 46, 47, 48, 49]])"
     },
     "execution_count": 40,
     "metadata": {},
     "output_type": "execute_result"
    }
   ],
   "source": [
    "arr_2d"
   ],
   "metadata": {
    "collapsed": false,
    "ExecuteTime": {
     "end_time": "2023-09-13T04:28:06.032640900Z",
     "start_time": "2023-09-13T04:28:06.012943300Z"
    }
   },
   "id": "7a4d10eb419c8d05"
  },
  {
   "cell_type": "code",
   "execution_count": 41,
   "outputs": [
    {
     "data": {
      "text/plain": "array([[13, 14],\n       [23, 24]])"
     },
     "execution_count": 41,
     "metadata": {},
     "output_type": "execute_result"
    }
   ],
   "source": [
    "arr_2d[1:3, 3:5]"
   ],
   "metadata": {
    "collapsed": false,
    "ExecuteTime": {
     "end_time": "2023-09-13T04:29:06.091809500Z",
     "start_time": "2023-09-13T04:29:06.039497900Z"
    }
   },
   "id": "bc739c83e18846f0"
  },
  {
   "cell_type": "code",
   "execution_count": null,
   "outputs": [],
   "source": [],
   "metadata": {
    "collapsed": false
   },
   "id": "407409f125b4144e"
  }
 ],
 "metadata": {
  "kernelspec": {
   "display_name": "Python 3",
   "language": "python",
   "name": "python3"
  },
  "language_info": {
   "codemirror_mode": {
    "name": "ipython",
    "version": 2
   },
   "file_extension": ".py",
   "mimetype": "text/x-python",
   "name": "python",
   "nbconvert_exporter": "python",
   "pygments_lexer": "ipython2",
   "version": "2.7.6"
  }
 },
 "nbformat": 4,
 "nbformat_minor": 5
}
