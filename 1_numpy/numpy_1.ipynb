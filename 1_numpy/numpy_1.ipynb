{
 "cells": [
  {
   "cell_type": "markdown",
   "id": "353e4f7868a1839",
   "metadata": {},
   "source": [
    "# NumPy Arrays"
   ]
  },
  {
   "cell_type": "code",
   "execution_count": 1,
   "id": "b1e48a997d0b3405",
   "metadata": {
    "ExecuteTime": {
     "end_time": "2023-09-11T23:19:06.578095100Z",
     "start_time": "2023-09-11T23:19:06.571017300Z"
    }
   },
   "outputs": [],
   "source": [
    "# Creating a simple array\n",
    "my_list = [1, 2, 3]"
   ]
  },
  {
   "cell_type": "code",
   "execution_count": 2,
   "id": "7327b697c0fdfb92",
   "metadata": {
    "ExecuteTime": {
     "end_time": "2023-09-11T23:19:08.562102800Z",
     "start_time": "2023-09-11T23:19:08.348622100Z"
    }
   },
   "outputs": [],
   "source": [
    "# Importing the numpy library\n",
    "import numpy as np"
   ]
  },
  {
   "cell_type": "code",
   "execution_count": 3,
   "id": "eaf0ed6033989846",
   "metadata": {
    "ExecuteTime": {
     "end_time": "2023-09-11T23:19:09.953633700Z",
     "start_time": "2023-09-11T23:19:09.943101400Z"
    }
   },
   "outputs": [],
   "source": [
    "# Casting a simple array to a numpy array\n",
    "arr = np.array(my_list)"
   ]
  },
  {
   "cell_type": "code",
   "execution_count": 4,
   "id": "ec5b23e7568e032c",
   "metadata": {
    "ExecuteTime": {
     "end_time": "2023-09-11T23:19:10.959300700Z",
     "start_time": "2023-09-11T23:19:10.930427100Z"
    }
   },
   "outputs": [
    {
     "data": {
      "text/plain": [
       "array([1, 2, 3])"
      ]
     },
     "execution_count": 4,
     "metadata": {},
     "output_type": "execute_result"
    }
   ],
   "source": [
    "arr"
   ]
  },
  {
   "cell_type": "code",
   "execution_count": 5,
   "id": "c0a73b4caf12cae6",
   "metadata": {
    "ExecuteTime": {
     "end_time": "2023-09-11T23:19:14.990144300Z",
     "start_time": "2023-09-11T23:19:14.958715400Z"
    }
   },
   "outputs": [],
   "source": [
    "my_mat = [\n",
    "    [1, 2, 3],\n",
    "    [4, 5, 6],\n",
    "    [7, 8, 9]\n",
    "]"
   ]
  },
  {
   "cell_type": "code",
   "execution_count": 6,
   "id": "30a52eb7fa6f54ce",
   "metadata": {
    "ExecuteTime": {
     "end_time": "2023-09-11T23:19:17.496393200Z",
     "start_time": "2023-09-11T23:19:17.480554500Z"
    }
   },
   "outputs": [
    {
     "data": {
      "text/plain": [
       "array([[1, 2, 3],\n",
       "       [4, 5, 6],\n",
       "       [7, 8, 9]])"
      ]
     },
     "execution_count": 6,
     "metadata": {},
     "output_type": "execute_result"
    }
   ],
   "source": [
    "# Creating a matrix out of a 2-D array\n",
    "np.array(my_mat)"
   ]
  },
  {
   "cell_type": "code",
   "execution_count": 7,
   "id": "1dcfd5e7bb3bd8c8",
   "metadata": {
    "ExecuteTime": {
     "end_time": "2023-09-11T23:19:19.266339200Z",
     "start_time": "2023-09-11T23:19:19.262017200Z"
    }
   },
   "outputs": [
    {
     "data": {
      "text/plain": [
       "array([0, 1, 2, 3, 4, 5, 6, 7, 8, 9])"
      ]
     },
     "execution_count": 7,
     "metadata": {},
     "output_type": "execute_result"
    }
   ],
   "source": [
    "# Range function (upper bound is excluded)\n",
    "np.arange(0, 10)"
   ]
  },
  {
   "cell_type": "code",
   "execution_count": 8,
   "id": "dfe057987553f708",
   "metadata": {
    "ExecuteTime": {
     "end_time": "2023-09-11T23:19:20.698762600Z",
     "start_time": "2023-09-11T23:19:20.667092500Z"
    }
   },
   "outputs": [
    {
     "data": {
      "text/plain": [
       "array([ 0,  2,  4,  6,  8, 10])"
      ]
     },
     "execution_count": 8,
     "metadata": {},
     "output_type": "execute_result"
    }
   ],
   "source": [
    "# Range function with step size\n",
    "np.arange(0, 11, 2)"
   ]
  },
  {
   "cell_type": "code",
   "execution_count": 9,
   "id": "b47337b94e65f90",
   "metadata": {
    "ExecuteTime": {
     "end_time": "2023-09-11T23:19:22.062822800Z",
     "start_time": "2023-09-11T23:19:22.030584600Z"
    }
   },
   "outputs": [
    {
     "data": {
      "text/plain": [
       "array([0., 0., 0.])"
      ]
     },
     "execution_count": 9,
     "metadata": {},
     "output_type": "execute_result"
    }
   ],
   "source": [
    "# Create an array of zeros\n",
    "np.zeros(3)"
   ]
  },
  {
   "cell_type": "code",
   "execution_count": 10,
   "id": "1d08561c6b4dce97",
   "metadata": {
    "ExecuteTime": {
     "end_time": "2023-09-11T23:19:22.736047400Z",
     "start_time": "2023-09-11T23:19:22.728981600Z"
    }
   },
   "outputs": [
    {
     "data": {
      "text/plain": [
       "array([[0., 0., 0., 0., 0.],\n",
       "       [0., 0., 0., 0., 0.],\n",
       "       [0., 0., 0., 0., 0.],\n",
       "       [0., 0., 0., 0., 0.],\n",
       "       [0., 0., 0., 0., 0.]])"
      ]
     },
     "execution_count": 10,
     "metadata": {},
     "output_type": "execute_result"
    }
   ],
   "source": [
    "# Create a matrix of zeros\n",
    "np.zeros((5, 5))"
   ]
  },
  {
   "cell_type": "code",
   "execution_count": 11,
   "id": "8afa493a2aed7675",
   "metadata": {
    "ExecuteTime": {
     "end_time": "2023-09-11T23:19:24.779275100Z",
     "start_time": "2023-09-11T23:19:24.758699700Z"
    }
   },
   "outputs": [
    {
     "data": {
      "text/plain": [
       "array([1., 1., 1., 1.])"
      ]
     },
     "execution_count": 11,
     "metadata": {},
     "output_type": "execute_result"
    }
   ],
   "source": [
    "# Create an array of 1s\n",
    "np.ones(4)"
   ]
  },
  {
   "cell_type": "code",
   "execution_count": 12,
   "id": "e89c02d425aabba6",
   "metadata": {
    "ExecuteTime": {
     "end_time": "2023-09-11T23:19:26.908487Z",
     "start_time": "2023-09-11T23:19:26.892753100Z"
    }
   },
   "outputs": [
    {
     "data": {
      "text/plain": [
       "array([[1., 1., 1., 1.],\n",
       "       [1., 1., 1., 1.],\n",
       "       [1., 1., 1., 1.]])"
      ]
     },
     "execution_count": 12,
     "metadata": {},
     "output_type": "execute_result"
    }
   ],
   "source": [
    "# Create a matrix of 1s\n",
    "np.ones((3, 4))"
   ]
  },
  {
   "cell_type": "code",
   "execution_count": 13,
   "id": "913ff0fd2e418887",
   "metadata": {
    "ExecuteTime": {
     "end_time": "2023-09-11T23:19:28.852668100Z",
     "start_time": "2023-09-11T23:19:28.835828500Z"
    }
   },
   "outputs": [
    {
     "data": {
      "text/plain": [
       "array([0.        , 0.55555556, 1.11111111, 1.66666667, 2.22222222,\n",
       "       2.77777778, 3.33333333, 3.88888889, 4.44444444, 5.        ])"
      ]
     },
     "execution_count": 13,
     "metadata": {},
     "output_type": "execute_result"
    }
   ],
   "source": [
    "# Creating an array of equal sized intervals from a given range\n",
    "np.linspace(0, 5, 10)"
   ]
  },
  {
   "cell_type": "code",
   "execution_count": 14,
   "id": "5637597266cf6e2a",
   "metadata": {
    "ExecuteTime": {
     "end_time": "2023-09-11T23:20:02.673775900Z",
     "start_time": "2023-09-11T23:20:02.623424800Z"
    }
   },
   "outputs": [
    {
     "data": {
      "text/plain": [
       "array([[1., 0., 0., 0.],\n",
       "       [0., 1., 0., 0.],\n",
       "       [0., 0., 1., 0.],\n",
       "       [0., 0., 0., 1.]])"
      ]
     },
     "execution_count": 14,
     "metadata": {},
     "output_type": "execute_result"
    }
   ],
   "source": [
    "# Creating an identity matrix\n",
    "np.eye(4)"
   ]
  },
  {
   "cell_type": "code",
   "execution_count": 15,
   "id": "1a0b1f75e731b12d",
   "metadata": {
    "ExecuteTime": {
     "end_time": "2023-09-11T23:20:57.695597700Z",
     "start_time": "2023-09-11T23:20:57.654457100Z"
    }
   },
   "outputs": [
    {
     "data": {
      "text/plain": [
       "array([0.3919964 , 0.36855532, 0.73005838, 0.62578928, 0.52870999])"
      ]
     },
     "execution_count": 15,
     "metadata": {},
     "output_type": "execute_result"
    }
   ],
   "source": [
    "# Creating random numbers in the range [0, 1)\n",
    "np.random.rand(5)"
   ]
  },
  {
   "cell_type": "code",
   "execution_count": 16,
   "id": "19002199086a28f8",
   "metadata": {
    "ExecuteTime": {
     "end_time": "2023-09-11T23:21:12.058680400Z",
     "start_time": "2023-09-11T23:21:12.031840400Z"
    }
   },
   "outputs": [
    {
     "data": {
      "text/plain": [
       "array([[0.8369773 , 0.15970834, 0.17981307, 0.78150121, 0.97826256],\n",
       "       [0.64953369, 0.03229886, 0.55525893, 0.81174504, 0.23163194],\n",
       "       [0.55126587, 0.5637177 , 0.08735716, 0.90440335, 0.04417966],\n",
       "       [0.53179906, 0.17961513, 0.28892041, 0.79730152, 0.88107125],\n",
       "       [0.54669937, 0.91821918, 0.58162895, 0.31235618, 0.55895957]])"
      ]
     },
     "execution_count": 16,
     "metadata": {},
     "output_type": "execute_result"
    }
   ],
   "source": [
    "# Creating a matrix of random numbers\n",
    "np.random.rand(5, 5)"
   ]
  },
  {
   "cell_type": "code",
   "execution_count": 17,
   "id": "2f2d77e6a32860b4",
   "metadata": {
    "ExecuteTime": {
     "end_time": "2023-09-11T23:21:39.743345300Z",
     "start_time": "2023-09-11T23:21:39.699096500Z"
    }
   },
   "outputs": [
    {
     "data": {
      "text/plain": [
       "array([ 0.7737566 , -2.46764643])"
      ]
     },
     "execution_count": 17,
     "metadata": {},
     "output_type": "execute_result"
    }
   ],
   "source": [
    "# Creating random numbers from the standard normal distribution\n",
    "np.random.randn(2)"
   ]
  },
  {
   "cell_type": "code",
   "execution_count": 18,
   "id": "719ec99241dcda4e",
   "metadata": {
    "ExecuteTime": {
     "end_time": "2023-09-11T23:22:20.769572600Z",
     "start_time": "2023-09-11T23:22:20.724029200Z"
    }
   },
   "outputs": [
    {
     "data": {
      "text/plain": [
       "array([[-0.26402808, -0.43119637,  0.06003369,  1.09753168],\n",
       "       [ 1.77514232,  1.23901723, -0.18832806, -0.77199859],\n",
       "       [ 1.21531343, -1.45816237,  1.76210064,  0.52829995],\n",
       "       [-0.49920589,  1.91482179, -0.55749168,  0.72247031]])"
      ]
     },
     "execution_count": 18,
     "metadata": {},
     "output_type": "execute_result"
    }
   ],
   "source": [
    "# Creating a matrix from the standard normal distribution\n",
    "np.random.randn(4, 4)"
   ]
  },
  {
   "cell_type": "code",
   "execution_count": 21,
   "id": "cb1f2c4041b8d26e",
   "metadata": {
    "ExecuteTime": {
     "end_time": "2023-09-11T23:23:28.702191400Z",
     "start_time": "2023-09-11T23:23:28.687100700Z"
    }
   },
   "outputs": [
    {
     "data": {
      "text/plain": [
       "85"
      ]
     },
     "execution_count": 21,
     "metadata": {},
     "output_type": "execute_result"
    }
   ],
   "source": [
    "# Creating a random integer in a given range (upper bound is excluded)\n",
    "np.random.randint(1, 100) # 100 is excluded, 1 is included"
   ]
  },
  {
   "cell_type": "code",
   "execution_count": 22,
   "id": "c9b4b9a7243163d3",
   "metadata": {
    "ExecuteTime": {
     "end_time": "2023-09-11T23:23:35.742438700Z",
     "start_time": "2023-09-11T23:23:35.724820100Z"
    }
   },
   "outputs": [
    {
     "data": {
      "text/plain": [
       "array([78, 28, 59, 14, 74, 42, 92, 86, 60, 19])"
      ]
     },
     "execution_count": 22,
     "metadata": {},
     "output_type": "execute_result"
    }
   ],
   "source": [
    "# Creating an array of random integers in a given range (upper bound is excluded)\n",
    "np.random.randint(1, 100, 10)"
   ]
  },
  {
   "cell_type": "code",
   "execution_count": 23,
   "id": "b19014fdf158da49",
   "metadata": {
    "ExecuteTime": {
     "end_time": "2023-09-11T23:24:11.487588200Z",
     "start_time": "2023-09-11T23:24:11.477005100Z"
    }
   },
   "outputs": [],
   "source": [
    "arr = np.arange(25)"
   ]
  },
  {
   "cell_type": "code",
   "execution_count": 24,
   "id": "eb025896921fa261",
   "metadata": {
    "ExecuteTime": {
     "end_time": "2023-09-11T23:24:13.648540Z",
     "start_time": "2023-09-11T23:24:13.617087Z"
    }
   },
   "outputs": [
    {
     "data": {
      "text/plain": [
       "array([ 0,  1,  2,  3,  4,  5,  6,  7,  8,  9, 10, 11, 12, 13, 14, 15, 16,\n",
       "       17, 18, 19, 20, 21, 22, 23, 24])"
      ]
     },
     "execution_count": 24,
     "metadata": {},
     "output_type": "execute_result"
    }
   ],
   "source": [
    "arr"
   ]
  },
  {
   "cell_type": "code",
   "execution_count": 25,
   "id": "296605d2bc8fa7c1",
   "metadata": {
    "ExecuteTime": {
     "end_time": "2023-09-11T23:24:40.848685300Z",
     "start_time": "2023-09-11T23:24:40.821970500Z"
    }
   },
   "outputs": [],
   "source": [
    "ranarr = np.random.randint(0, 50, 10)"
   ]
  },
  {
   "cell_type": "code",
   "execution_count": 26,
   "id": "89f5552aea29ade",
   "metadata": {
    "ExecuteTime": {
     "end_time": "2023-09-11T23:24:43.312209900Z",
     "start_time": "2023-09-11T23:24:43.271453900Z"
    }
   },
   "outputs": [
    {
     "data": {
      "text/plain": [
       "array([45,  1, 20, 45,  5, 38, 21, 38, 25, 15])"
      ]
     },
     "execution_count": 26,
     "metadata": {},
     "output_type": "execute_result"
    }
   ],
   "source": [
    "ranarr"
   ]
  },
  {
   "cell_type": "code",
   "execution_count": 27,
   "id": "a1041922936f0e61",
   "metadata": {
    "ExecuteTime": {
     "end_time": "2023-09-11T23:27:20.816227Z",
     "start_time": "2023-09-11T23:27:20.804066800Z"
    }
   },
   "outputs": [
    {
     "data": {
      "text/plain": [
       "array([[ 0,  1,  2,  3,  4],\n",
       "       [ 5,  6,  7,  8,  9],\n",
       "       [10, 11, 12, 13, 14],\n",
       "       [15, 16, 17, 18, 19],\n",
       "       [20, 21, 22, 23, 24]])"
      ]
     },
     "execution_count": 27,
     "metadata": {},
     "output_type": "execute_result"
    }
   ],
   "source": [
    "# Method to reshape a numpy array\n",
    "arr.reshape(5, 5)"
   ]
  },
  {
   "cell_type": "code",
   "execution_count": 30,
   "id": "2e51286100f7067d",
   "metadata": {
    "ExecuteTime": {
     "end_time": "2023-09-11T23:28:20.320055600Z",
     "start_time": "2023-09-11T23:28:20.274898800Z"
    }
   },
   "outputs": [
    {
     "data": {
      "text/plain": [
       "45"
      ]
     },
     "execution_count": 30,
     "metadata": {},
     "output_type": "execute_result"
    }
   ],
   "source": [
    "# Finding the maximum value\n",
    "ranarr.max()"
   ]
  },
  {
   "cell_type": "code",
   "execution_count": 31,
   "id": "7959c2c481549ffc",
   "metadata": {
    "ExecuteTime": {
     "end_time": "2023-09-11T23:28:24.369598100Z",
     "start_time": "2023-09-11T23:28:24.347880500Z"
    }
   },
   "outputs": [
    {
     "data": {
      "text/plain": [
       "1"
      ]
     },
     "execution_count": 31,
     "metadata": {},
     "output_type": "execute_result"
    }
   ],
   "source": [
    "# Finding the minimum value\n",
    "ranarr.min()"
   ]
  },
  {
   "cell_type": "code",
   "execution_count": 32,
   "id": "b0a94bd012d5cd9e",
   "metadata": {
    "ExecuteTime": {
     "end_time": "2023-09-11T23:28:46.070363800Z",
     "start_time": "2023-09-11T23:28:46.043371700Z"
    }
   },
   "outputs": [
    {
     "data": {
      "text/plain": [
       "0"
      ]
     },
     "execution_count": 32,
     "metadata": {},
     "output_type": "execute_result"
    }
   ],
   "source": [
    "# Finding the index of maximum value\n",
    "ranarr.argmax()"
   ]
  },
  {
   "cell_type": "code",
   "execution_count": 33,
   "id": "d9ca44ba064e5536",
   "metadata": {
    "ExecuteTime": {
     "end_time": "2023-09-11T23:28:50.654060900Z",
     "start_time": "2023-09-11T23:28:50.627512900Z"
    }
   },
   "outputs": [
    {
     "data": {
      "text/plain": [
       "1"
      ]
     },
     "execution_count": 33,
     "metadata": {},
     "output_type": "execute_result"
    }
   ],
   "source": [
    "# Finding the index of minimum value\n",
    "ranarr.argmin()"
   ]
  },
  {
   "cell_type": "code",
   "execution_count": 34,
   "id": "f27384bd916ae7f",
   "metadata": {
    "ExecuteTime": {
     "end_time": "2023-09-11T23:34:40.606632800Z",
     "start_time": "2023-09-11T23:34:40.572727500Z"
    }
   },
   "outputs": [
    {
     "data": {
      "text/plain": [
       "(25,)"
      ]
     },
     "execution_count": 34,
     "metadata": {},
     "output_type": "execute_result"
    }
   ],
   "source": [
    "# Retrieving the shape of a numpy array \n",
    "arr.shape"
   ]
  },
  {
   "cell_type": "code",
   "execution_count": 35,
   "id": "5b6b1d2764e9caf6",
   "metadata": {
    "ExecuteTime": {
     "end_time": "2023-09-11T23:35:20.482431100Z",
     "start_time": "2023-09-11T23:35:20.458821700Z"
    }
   },
   "outputs": [
    {
     "data": {
      "text/plain": [
       "dtype('int32')"
      ]
     },
     "execution_count": 35,
     "metadata": {},
     "output_type": "execute_result"
    }
   ],
   "source": [
    "# Data-type of a numpy array\n",
    "arr.dtype"
   ]
  }
 ],
 "metadata": {
  "kernelspec": {
   "display_name": "Python 3 (ipykernel)",
   "language": "python",
   "name": "python3"
  },
  "language_info": {
   "codemirror_mode": {
    "name": "ipython",
    "version": 3
   },
   "file_extension": ".py",
   "mimetype": "text/x-python",
   "name": "python",
   "nbconvert_exporter": "python",
   "pygments_lexer": "ipython3",
   "version": "3.11.4"
  }
 },
 "nbformat": 4,
 "nbformat_minor": 5
}
