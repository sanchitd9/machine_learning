{
 "cells": [
  {
   "cell_type": "markdown",
   "source": [
    "# Pandas - DataFrames"
   ],
   "metadata": {
    "collapsed": false
   },
   "id": "adc264869f9e8e76"
  },
  {
   "cell_type": "code",
   "execution_count": 7,
   "outputs": [],
   "source": [
    "import pandas as pd\n",
    "from numpy.random import randn"
   ],
   "metadata": {
    "collapsed": false,
    "ExecuteTime": {
     "end_time": "2023-09-14T18:47:51.755327700Z",
     "start_time": "2023-09-14T18:47:51.725413900Z"
    }
   },
   "id": "9ab6caf891414181"
  },
  {
   "cell_type": "code",
   "execution_count": 2,
   "outputs": [],
   "source": [
    "outside = ['G1', 'G1', 'G1', 'G2', 'G2', 'G2']\n",
    "inside = [1, 2, 3, 1, 2, 3]\n",
    "hier_index = list(zip(outside, inside))\n",
    "hier_index = pd.MultiIndex.from_tuples(hier_index)"
   ],
   "metadata": {
    "collapsed": false,
    "ExecuteTime": {
     "end_time": "2023-09-14T18:45:08.316933Z",
     "start_time": "2023-09-14T18:45:08.302866400Z"
    }
   },
   "id": "f11d02c39215124c"
  },
  {
   "cell_type": "code",
   "execution_count": 3,
   "outputs": [
    {
     "data": {
      "text/plain": "['G1', 'G1', 'G1', 'G2', 'G2', 'G2']"
     },
     "execution_count": 3,
     "metadata": {},
     "output_type": "execute_result"
    }
   ],
   "source": [
    "outside"
   ],
   "metadata": {
    "collapsed": false,
    "ExecuteTime": {
     "end_time": "2023-09-14T18:45:26.446597600Z",
     "start_time": "2023-09-14T18:45:26.430181100Z"
    }
   },
   "id": "de47e2300644d350"
  },
  {
   "cell_type": "code",
   "execution_count": 4,
   "outputs": [
    {
     "data": {
      "text/plain": "[1, 2, 3, 1, 2, 3]"
     },
     "execution_count": 4,
     "metadata": {},
     "output_type": "execute_result"
    }
   ],
   "source": [
    "inside"
   ],
   "metadata": {
    "collapsed": false,
    "ExecuteTime": {
     "end_time": "2023-09-14T18:45:35.463609200Z",
     "start_time": "2023-09-14T18:45:35.424377900Z"
    }
   },
   "id": "c38287ed04863600"
  },
  {
   "cell_type": "markdown",
   "source": [
    "### Creating a MultiIndex"
   ],
   "metadata": {
    "collapsed": false
   },
   "id": "ed3cd43d688d55d6"
  },
  {
   "cell_type": "code",
   "execution_count": 5,
   "outputs": [
    {
     "data": {
      "text/plain": "MultiIndex([('G1', 1),\n            ('G1', 2),\n            ('G1', 3),\n            ('G2', 1),\n            ('G2', 2),\n            ('G2', 3)],\n           )"
     },
     "execution_count": 5,
     "metadata": {},
     "output_type": "execute_result"
    }
   ],
   "source": [
    "hier_index"
   ],
   "metadata": {
    "collapsed": false,
    "ExecuteTime": {
     "end_time": "2023-09-14T18:46:10.614633500Z",
     "start_time": "2023-09-14T18:46:10.567812Z"
    }
   },
   "id": "33bc1b09e8c7a950"
  },
  {
   "cell_type": "code",
   "execution_count": 8,
   "outputs": [],
   "source": [
    "df = pd.DataFrame(randn(6, 2), hier_index, ['A', 'B'])"
   ],
   "metadata": {
    "collapsed": false,
    "ExecuteTime": {
     "end_time": "2023-09-14T18:47:55.871797400Z",
     "start_time": "2023-09-14T18:47:55.869673700Z"
    }
   },
   "id": "aadd09895d88105c"
  },
  {
   "cell_type": "code",
   "execution_count": 9,
   "outputs": [
    {
     "data": {
      "text/plain": "             A         B\nG1 1 -1.764653  0.080045\n   2  0.770603  1.371349\n   3  1.651103  0.094695\nG2 1  0.135077  0.020619\n   2 -0.623573  0.803564\n   3 -0.953240  1.709841",
      "text/html": "<div>\n<style scoped>\n    .dataframe tbody tr th:only-of-type {\n        vertical-align: middle;\n    }\n\n    .dataframe tbody tr th {\n        vertical-align: top;\n    }\n\n    .dataframe thead th {\n        text-align: right;\n    }\n</style>\n<table border=\"1\" class=\"dataframe\">\n  <thead>\n    <tr style=\"text-align: right;\">\n      <th></th>\n      <th></th>\n      <th>A</th>\n      <th>B</th>\n    </tr>\n  </thead>\n  <tbody>\n    <tr>\n      <th rowspan=\"3\" valign=\"top\">G1</th>\n      <th>1</th>\n      <td>-1.764653</td>\n      <td>0.080045</td>\n    </tr>\n    <tr>\n      <th>2</th>\n      <td>0.770603</td>\n      <td>1.371349</td>\n    </tr>\n    <tr>\n      <th>3</th>\n      <td>1.651103</td>\n      <td>0.094695</td>\n    </tr>\n    <tr>\n      <th rowspan=\"3\" valign=\"top\">G2</th>\n      <th>1</th>\n      <td>0.135077</td>\n      <td>0.020619</td>\n    </tr>\n    <tr>\n      <th>2</th>\n      <td>-0.623573</td>\n      <td>0.803564</td>\n    </tr>\n    <tr>\n      <th>3</th>\n      <td>-0.953240</td>\n      <td>1.709841</td>\n    </tr>\n  </tbody>\n</table>\n</div>"
     },
     "execution_count": 9,
     "metadata": {},
     "output_type": "execute_result"
    }
   ],
   "source": [
    "df"
   ],
   "metadata": {
    "collapsed": false,
    "ExecuteTime": {
     "end_time": "2023-09-14T18:47:57.773937100Z",
     "start_time": "2023-09-14T18:47:57.739458900Z"
    }
   },
   "id": "29efd1ce860ac50a"
  },
  {
   "cell_type": "markdown",
   "source": [
    "### Indexing in a MultiIndex DataFrame"
   ],
   "metadata": {
    "collapsed": false
   },
   "id": "9ccd614a41252617"
  },
  {
   "cell_type": "code",
   "execution_count": 10,
   "outputs": [
    {
     "data": {
      "text/plain": "          A         B\n1 -1.764653  0.080045\n2  0.770603  1.371349\n3  1.651103  0.094695",
      "text/html": "<div>\n<style scoped>\n    .dataframe tbody tr th:only-of-type {\n        vertical-align: middle;\n    }\n\n    .dataframe tbody tr th {\n        vertical-align: top;\n    }\n\n    .dataframe thead th {\n        text-align: right;\n    }\n</style>\n<table border=\"1\" class=\"dataframe\">\n  <thead>\n    <tr style=\"text-align: right;\">\n      <th></th>\n      <th>A</th>\n      <th>B</th>\n    </tr>\n  </thead>\n  <tbody>\n    <tr>\n      <th>1</th>\n      <td>-1.764653</td>\n      <td>0.080045</td>\n    </tr>\n    <tr>\n      <th>2</th>\n      <td>0.770603</td>\n      <td>1.371349</td>\n    </tr>\n    <tr>\n      <th>3</th>\n      <td>1.651103</td>\n      <td>0.094695</td>\n    </tr>\n  </tbody>\n</table>\n</div>"
     },
     "execution_count": 10,
     "metadata": {},
     "output_type": "execute_result"
    }
   ],
   "source": [
    "df.loc['G1']"
   ],
   "metadata": {
    "collapsed": false,
    "ExecuteTime": {
     "end_time": "2023-09-14T18:48:43.230730600Z",
     "start_time": "2023-09-14T18:48:43.189814100Z"
    }
   },
   "id": "7613daf389b78533"
  },
  {
   "cell_type": "code",
   "execution_count": 11,
   "outputs": [
    {
     "data": {
      "text/plain": "A   -1.764653\nB    0.080045\nName: 1, dtype: float64"
     },
     "execution_count": 11,
     "metadata": {},
     "output_type": "execute_result"
    }
   ],
   "source": [
    "df.loc['G1'].loc[1]"
   ],
   "metadata": {
    "collapsed": false,
    "ExecuteTime": {
     "end_time": "2023-09-14T18:48:57.612259400Z",
     "start_time": "2023-09-14T18:48:57.583520900Z"
    }
   },
   "id": "e1e49744a71bcbe1"
  },
  {
   "cell_type": "code",
   "execution_count": 13,
   "outputs": [],
   "source": [
    "df.index.names = ['Groups', 'Num']"
   ],
   "metadata": {
    "collapsed": false,
    "ExecuteTime": {
     "end_time": "2023-09-14T18:49:38.657648Z",
     "start_time": "2023-09-14T18:49:38.642803800Z"
    }
   },
   "id": "dbbb352b5a91afc2"
  },
  {
   "cell_type": "code",
   "execution_count": 14,
   "outputs": [
    {
     "data": {
      "text/plain": "                   A         B\nGroups Num                    \nG1     1   -1.764653  0.080045\n       2    0.770603  1.371349\n       3    1.651103  0.094695\nG2     1    0.135077  0.020619\n       2   -0.623573  0.803564\n       3   -0.953240  1.709841",
      "text/html": "<div>\n<style scoped>\n    .dataframe tbody tr th:only-of-type {\n        vertical-align: middle;\n    }\n\n    .dataframe tbody tr th {\n        vertical-align: top;\n    }\n\n    .dataframe thead th {\n        text-align: right;\n    }\n</style>\n<table border=\"1\" class=\"dataframe\">\n  <thead>\n    <tr style=\"text-align: right;\">\n      <th></th>\n      <th></th>\n      <th>A</th>\n      <th>B</th>\n    </tr>\n    <tr>\n      <th>Groups</th>\n      <th>Num</th>\n      <th></th>\n      <th></th>\n    </tr>\n  </thead>\n  <tbody>\n    <tr>\n      <th rowspan=\"3\" valign=\"top\">G1</th>\n      <th>1</th>\n      <td>-1.764653</td>\n      <td>0.080045</td>\n    </tr>\n    <tr>\n      <th>2</th>\n      <td>0.770603</td>\n      <td>1.371349</td>\n    </tr>\n    <tr>\n      <th>3</th>\n      <td>1.651103</td>\n      <td>0.094695</td>\n    </tr>\n    <tr>\n      <th rowspan=\"3\" valign=\"top\">G2</th>\n      <th>1</th>\n      <td>0.135077</td>\n      <td>0.020619</td>\n    </tr>\n    <tr>\n      <th>2</th>\n      <td>-0.623573</td>\n      <td>0.803564</td>\n    </tr>\n    <tr>\n      <th>3</th>\n      <td>-0.953240</td>\n      <td>1.709841</td>\n    </tr>\n  </tbody>\n</table>\n</div>"
     },
     "execution_count": 14,
     "metadata": {},
     "output_type": "execute_result"
    }
   ],
   "source": [
    "df"
   ],
   "metadata": {
    "collapsed": false,
    "ExecuteTime": {
     "end_time": "2023-09-14T18:49:40.062129200Z",
     "start_time": "2023-09-14T18:49:40.027347300Z"
    }
   },
   "id": "69d13b9d672e030d"
  },
  {
   "cell_type": "code",
   "execution_count": 17,
   "outputs": [
    {
     "data": {
      "text/plain": "0.8035640362351875"
     },
     "execution_count": 17,
     "metadata": {},
     "output_type": "execute_result"
    }
   ],
   "source": [
    "df.loc['G2'].loc[2]['B']"
   ],
   "metadata": {
    "collapsed": false,
    "ExecuteTime": {
     "end_time": "2023-09-14T18:50:36.800232900Z",
     "start_time": "2023-09-14T18:50:36.776057900Z"
    }
   },
   "id": "2a0381fd511a553"
  },
  {
   "cell_type": "markdown",
   "source": [
    "### Fetching a cross-section of a DataFrame"
   ],
   "metadata": {
    "collapsed": false
   },
   "id": "9d689c7af8cba3cc"
  },
  {
   "cell_type": "code",
   "execution_count": 19,
   "outputs": [
    {
     "data": {
      "text/plain": "            A         B\nNum                    \n1   -1.764653  0.080045\n2    0.770603  1.371349\n3    1.651103  0.094695",
      "text/html": "<div>\n<style scoped>\n    .dataframe tbody tr th:only-of-type {\n        vertical-align: middle;\n    }\n\n    .dataframe tbody tr th {\n        vertical-align: top;\n    }\n\n    .dataframe thead th {\n        text-align: right;\n    }\n</style>\n<table border=\"1\" class=\"dataframe\">\n  <thead>\n    <tr style=\"text-align: right;\">\n      <th></th>\n      <th>A</th>\n      <th>B</th>\n    </tr>\n    <tr>\n      <th>Num</th>\n      <th></th>\n      <th></th>\n    </tr>\n  </thead>\n  <tbody>\n    <tr>\n      <th>1</th>\n      <td>-1.764653</td>\n      <td>0.080045</td>\n    </tr>\n    <tr>\n      <th>2</th>\n      <td>0.770603</td>\n      <td>1.371349</td>\n    </tr>\n    <tr>\n      <th>3</th>\n      <td>1.651103</td>\n      <td>0.094695</td>\n    </tr>\n  </tbody>\n</table>\n</div>"
     },
     "execution_count": 19,
     "metadata": {},
     "output_type": "execute_result"
    }
   ],
   "source": [
    "df.xs('G1')"
   ],
   "metadata": {
    "collapsed": false,
    "ExecuteTime": {
     "end_time": "2023-09-14T18:52:20.453646700Z",
     "start_time": "2023-09-14T18:52:20.422719Z"
    }
   },
   "id": "7429d72ecf30856c"
  },
  {
   "cell_type": "code",
   "execution_count": 20,
   "outputs": [
    {
     "data": {
      "text/plain": "               A         B\nGroups                    \nG1     -1.764653  0.080045\nG2      0.135077  0.020619",
      "text/html": "<div>\n<style scoped>\n    .dataframe tbody tr th:only-of-type {\n        vertical-align: middle;\n    }\n\n    .dataframe tbody tr th {\n        vertical-align: top;\n    }\n\n    .dataframe thead th {\n        text-align: right;\n    }\n</style>\n<table border=\"1\" class=\"dataframe\">\n  <thead>\n    <tr style=\"text-align: right;\">\n      <th></th>\n      <th>A</th>\n      <th>B</th>\n    </tr>\n    <tr>\n      <th>Groups</th>\n      <th></th>\n      <th></th>\n    </tr>\n  </thead>\n  <tbody>\n    <tr>\n      <th>G1</th>\n      <td>-1.764653</td>\n      <td>0.080045</td>\n    </tr>\n    <tr>\n      <th>G2</th>\n      <td>0.135077</td>\n      <td>0.020619</td>\n    </tr>\n  </tbody>\n</table>\n</div>"
     },
     "execution_count": 20,
     "metadata": {},
     "output_type": "execute_result"
    }
   ],
   "source": [
    "df.xs(1, level='Num')"
   ],
   "metadata": {
    "collapsed": false,
    "ExecuteTime": {
     "end_time": "2023-09-14T18:52:49.606905600Z",
     "start_time": "2023-09-14T18:52:49.584660Z"
    }
   },
   "id": "b6c123d87eeb974c"
  },
  {
   "cell_type": "code",
   "execution_count": null,
   "outputs": [],
   "source": [],
   "metadata": {
    "collapsed": false
   },
   "id": "d27ef4bbcf7748a3"
  }
 ],
 "metadata": {
  "kernelspec": {
   "display_name": "Python 3",
   "language": "python",
   "name": "python3"
  },
  "language_info": {
   "codemirror_mode": {
    "name": "ipython",
    "version": 2
   },
   "file_extension": ".py",
   "mimetype": "text/x-python",
   "name": "python",
   "nbconvert_exporter": "python",
   "pygments_lexer": "ipython2",
   "version": "2.7.6"
  }
 },
 "nbformat": 4,
 "nbformat_minor": 5
}
